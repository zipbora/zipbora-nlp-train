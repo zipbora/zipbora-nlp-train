{
 "cells": [
  {
   "cell_type": "markdown",
   "metadata": {},
   "source": [
    "### Tokenizer"
   ]
  },
  {
   "cell_type": "code",
   "execution_count": 8,
   "metadata": {},
   "outputs": [],
   "source": [
    "import os \n",
    "os.chdir(\"/Users/bumjin/src/roomai\")\n",
    "\n",
    "from roomai.utils.tokenizer import get_tokenizer\n",
    "tokenizer = get_tokenizer(\"roomai/kobert\")"
   ]
  },
  {
   "cell_type": "markdown",
   "metadata": {},
   "source": [
    "### Beret Model\n",
    "\n",
    "The overall pipeline\n",
    "\n",
    "✍🏻 Sentence ->  🪙 Token -> 🔢 Indexes -> ➡ Vector Representation"
   ]
  },
  {
   "cell_type": "code",
   "execution_count": 9,
   "metadata": {},
   "outputs": [],
   "source": [
    "import torch\n",
    "model = torch.load(\"data/cached/kobert_monologg.pt\")"
   ]
  },
  {
   "cell_type": "code",
   "execution_count": 10,
   "metadata": {},
   "outputs": [
    {
     "name": "stdout",
     "output_type": "stream",
     "text": [
      "['[CLS]', '▁집', '보', '라는', '▁보', '라', '색', '이다', '.', '[SEP]']\n",
      "tensor([[   2, 4384, 6364, 6005, 2355, 6003, 6538, 7100,   54,    3]])\n"
     ]
    }
   ],
   "source": [
    "# 1. Given a sentence\n",
    "sentence = '집보라는 보라색이다.'\n",
    "\n",
    "# 2. tokenize the sentence\n",
    "tokens = tokenizer.tokenize(sentence)\n",
    "\n",
    "# add special tokens\n",
    "tokens = ['[CLS]'] + tokens + ['[SEP]']\n",
    "\n",
    "# 3. token -> indexes\n",
    "input_ids = tokenizer.convert_tokens_to_ids(tokens)\n",
    "\n",
    "# convert from list to tensor \n",
    "input_ids = torch.LongTensor([input_ids])\n",
    "\n",
    "for v in [tokens, input_ids]:\n",
    "    print(v)"
   ]
  },
  {
   "cell_type": "code",
   "execution_count": 11,
   "metadata": {},
   "outputs": [
    {
     "data": {
      "text/plain": [
       "(torch.Size([1, 10, 768]), torch.Size([1, 768]))"
      ]
     },
     "execution_count": 11,
     "metadata": {},
     "output_type": "execute_result"
    }
   ],
   "source": [
    "# 4. Vector Representation\n",
    "output = model(input_ids)\n",
    "output[0].size(), output[1].size()"
   ]
  },
  {
   "cell_type": "code",
   "execution_count": 12,
   "metadata": {},
   "outputs": [
    {
     "name": "stdout",
     "output_type": "stream",
     "text": [
      "tensor([[[ 0.0734, -0.0512,  0.2231,  ...,  0.0689, -0.1715, -0.1484],\n",
      "         [ 0.2727,  0.5509,  0.1092,  ...,  0.1019,  0.2426,  0.3949],\n",
      "         [ 0.0026,  0.0582,  0.1555,  ...,  0.0592, -0.4429,  0.1294],\n",
      "         ...,\n",
      "         [-0.1919, -0.1043,  0.1119,  ..., -0.2957,  0.1821, -0.3685],\n",
      "         [ 0.0119, -0.2293,  0.2344,  ...,  0.0144,  0.1840, -0.5576],\n",
      "         [ 0.0710, -0.1908,  0.3425,  ..., -0.3914, -0.0871, -0.2257]]],\n",
      "       grad_fn=<NativeLayerNormBackward0>)\n"
     ]
    }
   ],
   "source": [
    "print(output[0])"
   ]
  },
  {
   "cell_type": "code",
   "execution_count": null,
   "metadata": {},
   "outputs": [],
   "source": []
  }
 ],
 "metadata": {
  "interpreter": {
   "hash": "9b0397ef686072e381b6b80eab3f4cd18a1c3836ab10351022b806974b93f7cb"
  },
  "kernelspec": {
   "display_name": "Python 3.8.12 ('roomai')",
   "language": "python",
   "name": "python3"
  },
  "language_info": {
   "codemirror_mode": {
    "name": "ipython",
    "version": 3
   },
   "file_extension": ".py",
   "mimetype": "text/x-python",
   "name": "python",
   "nbconvert_exporter": "python",
   "pygments_lexer": "ipython3",
   "version": "3.8.12"
  },
  "orig_nbformat": 4
 },
 "nbformat": 4,
 "nbformat_minor": 2
}
